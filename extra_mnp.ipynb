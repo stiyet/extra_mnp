{
 "cells": [
  {
   "cell_type": "code",
   "execution_count": 1,
   "metadata": {},
   "outputs": [],
   "source": [
    "def extra_mnp_from_parsrTree(simTree):\n",
    "    sens = simTree.strip().split(' ')\n",
    "    pos = 0\n",
    "    mnps = []\n",
    "    _sentence = []\n",
    "    while pos<len(sens):\n",
    "        if sens[pos] == \"(NP\":\n",
    "            left_ = 1\n",
    "            pos += 1\n",
    "            np = \"\"\n",
    "            while left_>0 and pos<len(sens):\n",
    "                if sens[pos][0]=='(':\n",
    "                    left_ += 1\n",
    "                else:\n",
    "                    right_ = sens[pos].count(')')\n",
    "                    word = sens[pos][:-right_]\n",
    "                    np += word\n",
    "                    np += \" \"\n",
    "                    left_ -= right_\n",
    "                pos += 1\n",
    "            mnps.append(np.strip())\n",
    "            _sentence.append(\"_MNP_\")\n",
    "        elif sens[pos][-1] == ')':\n",
    "            right_ = sens[pos].count(')')\n",
    "            word = sens[pos][:-right_]\n",
    "            _sentence.append(word)\n",
    "        pos += 1\n",
    "        main_sentence = \"\"\n",
    "        for i in range(len(_sentence)):\n",
    "            if i==0:\n",
    "                main_sentence = _sentence[i]\n",
    "            elif _sentence[i]=='_MNP_' and _sentence[i-1]=='_MNP_':\n",
    "                continue\n",
    "            else:\n",
    "                main_sentence += \" \"\n",
    "                main_sentence += _sentence[i]\n",
    "    return main_sentence.strip(),mnps"
   ]
  },
  {
   "cell_type": "code",
   "execution_count": 2,
   "metadata": {},
   "outputs": [],
   "source": [
    "s = \"( (S (NP (NP (DT the) (JJ chen) (NN tou)) (VP (VBN known) (PP (IN as) (NP (DT the) (JJ &quot;) (JJ ox-plow-song) (NN &quot;))))) (VP (VBZ represents) (NP (NP (DT the) (ADJP (JJ affluent) (CC and) (JJ leisurely)) (NN lifestyle)) (PP (IN in) (NP (NNP Taiwan))) (PP (IN &apos;s) (NP (JJ rural) (NNS districts))))) (. .)) )\"\n",
    "m,n =extra_mnp_from_parsrTree(s)"
   ]
  },
  {
   "cell_type": "code",
   "execution_count": 3,
   "metadata": {},
   "outputs": [
    {
     "data": {
      "text/plain": [
       "'_MNP_ represents _MNP_ .'"
      ]
     },
     "execution_count": 3,
     "metadata": {},
     "output_type": "execute_result"
    }
   ],
   "source": [
    "m"
   ]
  },
  {
   "cell_type": "code",
   "execution_count": 4,
   "metadata": {},
   "outputs": [
    {
     "data": {
      "text/plain": [
       "['the chen tou known as the &quot; ox-plow-song &quot;',\n",
       " 'the affluent and leisurely lifestyle in Taiwan &apos;s rural districts']"
      ]
     },
     "execution_count": 4,
     "metadata": {},
     "output_type": "execute_result"
    }
   ],
   "source": [
    "n"
   ]
  },
  {
   "cell_type": "code",
   "execution_count": null,
   "metadata": {},
   "outputs": [],
   "source": []
  }
 ],
 "metadata": {
  "kernelspec": {
   "display_name": "Python 3",
   "language": "python",
   "name": "python3"
  },
  "language_info": {
   "codemirror_mode": {
    "name": "ipython",
    "version": 3
   },
   "file_extension": ".py",
   "mimetype": "text/x-python",
   "name": "python",
   "nbconvert_exporter": "python",
   "pygments_lexer": "ipython3",
   "version": "3.6.5"
  }
 },
 "nbformat": 4,
 "nbformat_minor": 2
}
